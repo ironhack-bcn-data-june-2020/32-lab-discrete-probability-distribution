{
 "cells": [
  {
   "cell_type": "code",
   "execution_count": null,
   "metadata": {},
   "outputs": [],
   "source": []
  },
  {
   "cell_type": "markdown",
   "metadata": {},
   "source": [
    "# Before your start:\n",
    "\n",
    "    Read the README.md file\n",
    "    Comment as much as you can and use the resources (README.md file)\n",
    "    Happy learning!\n",
    "\n",
    "*Notes:* \n",
    "\n",
    "- Solve the questions with python.\n",
    "\n",
    "- Round the final answer to three decimal places."
   ]
  },
  {
   "cell_type": "code",
   "execution_count": 1,
   "metadata": {
    "ExecuteTime": {
     "end_time": "2020-10-01T16:29:11.892167Z",
     "start_time": "2020-10-01T16:29:11.160620Z"
    }
   },
   "outputs": [],
   "source": [
    "import scipy.stats as stats\n",
    "import numpy as np\n",
    "import matplotlib.pyplot as plt\n",
    "import math"
   ]
  },
  {
   "cell_type": "markdown",
   "metadata": {},
   "source": [
    "## Bernoulli's Distribution\n",
    "\n",
    "In a basket containing 100 fruits, there are 60 apples and 40 oranges. \n",
    "\n",
    "A fruit is picked randomly from the basket. \n",
    "\n",
    "1. **What is the probability that the fruit is apple?**\n",
    "1. **What is the probability that it is an orange?**"
   ]
  },
  {
   "cell_type": "code",
   "execution_count": 2,
   "metadata": {
    "ExecuteTime": {
     "end_time": "2020-10-01T16:29:12.088629Z",
     "start_time": "2020-10-01T16:29:12.084267Z"
    }
   },
   "outputs": [
    {
     "data": {
      "text/plain": [
       "(0.6, 0.4)"
      ]
     },
     "execution_count": 2,
     "metadata": {},
     "output_type": "execute_result"
    }
   ],
   "source": [
    "\"\"\"\n",
    "Calculate:\n",
    "p = probability that the fruit is an apple \n",
    "q = probability that the fruit is an orange\n",
    "\"\"\"\n",
    "\n",
    "# your code here\n",
    "\n",
    "p = 60/100\n",
    "q = 40/100\n",
    "\n",
    "p, q\n",
    "\n",
    "#La probabilidad de sacar una manzana es del 60% y de sacar una naranja es del 40%"
   ]
  },
  {
   "cell_type": "markdown",
   "metadata": {},
   "source": [
    "Now we take a random sample of 20 fruits from the basket. After each fruit is taken, a new fruit of the same type is replaced in the basket. Therefore, every time we are taking 1 fruit from 100 fruits. \n",
    "\n",
    "1. **What is the probability that the first 5 fruits are all apples?**\n",
    "\n",
    "1. **What is the probability that the first 5 fruits are all apples and the next 15 fruits are all oranges?**\n",
    "\n",
    "You can include the `p` and `q` probabilities you previous calculated in your solution."
   ]
  },
  {
   "cell_type": "code",
   "execution_count": 3,
   "metadata": {
    "ExecuteTime": {
     "end_time": "2020-10-01T16:29:13.239410Z",
     "start_time": "2020-10-01T16:29:13.236633Z"
    }
   },
   "outputs": [
    {
     "data": {
      "text/plain": [
       "0.07775999999999998"
      ]
     },
     "execution_count": 3,
     "metadata": {},
     "output_type": "execute_result"
    }
   ],
   "source": [
    "#de una muestra de 20 frutas, cogemos una y la reemplazamos por el mismo tipo de fruta\n",
    "\n",
    "#P de sacar 5 frutas que sean manzanas?\n",
    "#como hacemos replacement con el mismo tipo de fruta, es como calcular la P de sacar una manzana por primera vez 5 veces\n",
    "#Así que elevamos esa P por 5 - permutación con repetición!\n",
    "\n",
    "p5 = p ** 5\n",
    "\n",
    "p5"
   ]
  },
  {
   "cell_type": "code",
   "execution_count": 4,
   "metadata": {
    "ExecuteTime": {
     "end_time": "2020-10-01T16:29:13.718835Z",
     "start_time": "2020-10-01T16:29:13.716669Z"
    }
   },
   "outputs": [],
   "source": [
    "#P de que las primeras 5 sean manzanas y las siguientes 15 sean naranjas?\n",
    "#multiplicamos la P que habíamos calculado antes de las manzanas por lo aplicable a las naranjas\n",
    "\n",
    "p5_q15 = p5 * (q ** 15)"
   ]
  },
  {
   "cell_type": "markdown",
   "metadata": {},
   "source": [
    "## Binomial Distribution\n",
    "\n",
    "Similar to the above problem, this time again we randomly sample 20 fruits.\n",
    "\n",
    "**What is the probability that this time the sample contains 5 apples and 15 oranges?**\n",
    "\n",
    "Please note that this time the order of the fruits being picked does not matter."
   ]
  },
  {
   "cell_type": "code",
   "execution_count": 6,
   "metadata": {
    "ExecuteTime": {
     "end_time": "2020-10-01T16:29:25.784167Z",
     "start_time": "2020-10-01T16:29:25.780008Z"
    }
   },
   "outputs": [
    {
     "data": {
      "text/plain": [
       "0.001"
      ]
     },
     "execution_count": 6,
     "metadata": {},
     "output_type": "execute_result"
    }
   ],
   "source": [
    "# P de que en nuestra muestra de 20 frutas contenga 5 manzanas y 15 naranjas? El orden ahora no importa\n",
    "# Antes permutación, ahora combinación con repetición!\n",
    "\n",
    "#k es el numero de manzanas\n",
    "k = 5\n",
    "#n es el tamaño de la muestra\n",
    "n = 20\n",
    "#p es la probabilidad de sacar manzana\n",
    "\n",
    "#Aplicamos stats y binominal (ya que sólo hay dos posibles resultados independientes, que salga o que no salga)\n",
    "#Calculamos la pmf (función de P de distribuciones discretas) para ver la P de sacar 5 manzanas y 15 naranjas, sin orden\n",
    "\n",
    "p_manzana = stats.binom.pmf(k, n, p)\n",
    "\n",
    "#no sé de dónde sale el 3\n",
    "round(p_manzana, 3)"
   ]
  },
  {
   "cell_type": "markdown",
   "metadata": {},
   "source": [
    "In the lesson we also discussed CDF (cumulative distribution function). In the context of the above problem, **what is the probability that less than 5 fruits picked are apples?**\n",
    "\n",
    "Write the formula and calculate the probability below."
   ]
  },
  {
   "cell_type": "code",
   "execution_count": 7,
   "metadata": {
    "ExecuteTime": {
     "end_time": "2020-10-01T16:29:29.592076Z",
     "start_time": "2020-10-01T16:29:29.587306Z"
    }
   },
   "outputs": [
    {
     "data": {
      "text/plain": [
       "0.0003"
      ]
     },
     "execution_count": 7,
     "metadata": {},
     "output_type": "execute_result"
    }
   ],
   "source": [
    "# cambiamos la k de 5 a un número inferior, como 4 (para sacar menos de 5)\n",
    "k = 4\n",
    "\n",
    "#Calculamos la cdf (función de distribución -todo lo que queda por debajo-)\n",
    "p_4manzanas = stats.binom.cdf(k, n, p)\n",
    "\n",
    "round(p_4manzanas, 4)"
   ]
  },
  {
   "cell_type": "markdown",
   "metadata": {},
   "source": [
    "**Plot the PDF (probability distributiom function) for the above binomial distribution.**\n",
    "\n",
    "*Hint: The range of x in a binomial distribution is from `0` to `n`.*"
   ]
  },
  {
   "cell_type": "code",
   "execution_count": 8,
   "metadata": {
    "ExecuteTime": {
     "end_time": "2020-10-01T16:29:35.465185Z",
     "start_time": "2020-10-01T16:29:35.324174Z"
    }
   },
   "outputs": [
    {
     "data": {
      "image/png": "[encoded data removed]",
      "text/plain": [
       "<Figure size 432x288 with 1 Axes>"
      ]
     },
     "metadata": {
      "needs_background": "light"
     },
     "output_type": "display_data"
    }
   ],
   "source": [
    "# Creamos la distribución binomial\n",
    "binomial = stats.binom(n, p)\n",
    "\n",
    "# Creamos los valores de la función\n",
    "x = np.arange(0, n+1)\n",
    "\n",
    "# Aplicamos la función al plot\n",
    "fmp = binomial.pmf(x)\n",
    "\n",
    "# Creamos el plot con Matplot\n",
    "plt.plot(x, fmp, '--')\n",
    "plt.vlines(x, 0, fmp, colors='red')\n",
    "plt.title('PDF of binomial distribution with n=20 and p=0.6')\n",
    "plt.ylabel('Probability')\n",
    "plt.xlabel('Values')\n",
    "plt.show()"
   ]
  },
  {
   "cell_type": "markdown",
   "metadata": {},
   "source": [
    "## Poisson Distribution\n",
    "\n",
    "In this challenge you are required to use the Math library in python to solve the problems.\n",
    "\n",
    "In the UEFA champions league tournament, the average number of goals scored in a match is 2.3. \n",
    "\n",
    "**What is the probability that the number of goals scored in a match is 5?**\n",
    "\n",
    "*Hint: Use the exp() in the math library*\n",
    "\n",
    "And to calculate the factorial, you can use the following code:\n",
    "\n",
    "```python\n",
    "import math\n",
    "math.factorial(n) # n is the number you want to find the factorial of\n",
    "```"
   ]
  },
  {
   "cell_type": "code",
   "execution_count": 10,
   "metadata": {
    "ExecuteTime": {
     "end_time": "2020-10-02T09:45:56.856111Z",
     "start_time": "2020-10-02T09:45:56.852979Z"
    }
   },
   "outputs": [
    {
     "name": "stdout",
     "output_type": "stream",
     "text": [
      "The probability that the number of goals scored in a math is 5 is 0.054\n"
     ]
    }
   ],
   "source": [
    "m = 2.3\n",
    "\n",
    "k = 5\n",
    "\n",
    "prob = math.exp(-m)*(m**k)/math.factorial(k)\n",
    "\n",
    "print(f'The probability that the number of goals scored in a math is 5 is {round(prob,3)}')"
   ]
  },
  {
   "cell_type": "markdown",
   "metadata": {},
   "source": [
    "**Draw a poisson probability distribution plot for the number of goals to be between 0 to 10.**"
   ]
  },
  {
   "cell_type": "code",
   "execution_count": 11,
   "metadata": {
    "ExecuteTime": {
     "end_time": "2020-10-02T09:45:59.661520Z",
     "start_time": "2020-10-02T09:45:59.531964Z"
    }
   },
   "outputs": [
    {
     "data": {
      "image/png": "[encoded data removed]",
      "text/plain": [
       "<Figure size 432x288 with 1 Axes>"
      ]
     },
     "metadata": {
      "needs_background": "light"
     },
     "output_type": "display_data"
    }
   ],
   "source": [
    "m =  2.3 \n",
    "n = 10\n",
    "\n",
    "# Distribution\n",
    "poisson = stats.poisson(m)\n",
    "\n",
    "# Values\n",
    "x = np.arange(0, n+1)\n",
    "\n",
    "# Function to plot\n",
    "fmp = poisson.pmf(x)\n",
    "\n",
    "# Plot\n",
    "plt.plot(x, fmp, '--')\n",
    "plt.vlines(x, 0, fmp, colors='red')\n",
    "plt.title('Poisson distribution')\n",
    "plt.ylabel('Probability')\n",
    "plt.xlabel('Number of goals')\n",
    "plt.show()"
   ]
  },
  {
   "cell_type": "code",
   "execution_count": null,
   "metadata": {},
   "outputs": [],
   "source": []
  }
 ],
 "metadata": {
  "kernelspec": {
   "display_name": "Python 3",
   "language": "python",
   "name": "python3"
  },
  "language_info": {
   "codemirror_mode": {
    "name": "ipython",
    "version": 3
   },
   "file_extension": ".py",
   "mimetype": "text/x-python",
   "name": "python",
   "nbconvert_exporter": "python",
   "pygments_lexer": "ipython3",
   "version": "3.7.6"
  },
  "toc": {
   "base_numbering": 1,
   "nav_menu": {},
   "number_sections": true,
   "sideBar": true,
   "skip_h1_title": false,
   "title_cell": "Table of Contents",
   "title_sidebar": "Contents",
   "toc_cell": false,
   "toc_position": {},
   "toc_section_display": true,
   "toc_window_display": false
  },
  "varInspector": {
   "cols": {
    "lenName": 16,
    "lenType": 16,
    "lenVar": 40
   },
   "kernels_config": {
    "python": {
     "delete_cmd_postfix": "",
     "delete_cmd_prefix": "del ",
     "library": "var_list.py",
     "varRefreshCmd": "print(var_dic_list())"
    },
    "r": {
     "delete_cmd_postfix": ") ",
     "delete_cmd_prefix": "rm(",
     "library": "var_list.r",
     "varRefreshCmd": "cat(var_dic_list()) "
    }
   },
   "types_to_exclude": [
    "module",
    "function",
    "builtin_function_or_method",
    "instance",
    "_Feature"
   ],
   "window_display": false
  }
 },
 "nbformat": 4,
 "nbformat_minor": 2
}
