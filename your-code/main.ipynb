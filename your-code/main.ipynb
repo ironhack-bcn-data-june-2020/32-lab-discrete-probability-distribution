{
 "cells": [
  {
   "cell_type": "markdown",
   "metadata": {},
   "source": [
    "# Before your start:\n",
    "\n",
    "    Read the README.md file\n",
    "    Comment as much as you can and use the resources (README.md file)\n",
    "    Happy learning!\n",
    "\n",
    "*Notes:* \n",
    "\n",
    "- Solve the questions with python.\n",
    "\n",
    "- Round the final answer to three decimal places."
   ]
  },
  {
   "cell_type": "markdown",
   "metadata": {},
   "source": [
    "## Bernoulli's Distribution\n",
    "\n",
    "In a basket containing 100 fruits, there are 60 apples and 40 oranges. \n",
    "\n",
    "A fruit is picked randomly from the basket. \n",
    "\n",
    "1. **What is the probability that the fruit is apple?**\n",
    "1. **What is the probability that it is an orange?**"
   ]
  },
  {
   "cell_type": "code",
   "execution_count": 3,
   "metadata": {},
   "outputs": [],
   "source": [
    "import scipy.stats as stats\n",
    "import numpy as np\n",
    "import matplotlib.pyplot as plt\n",
    "import math"
   ]
  },
  {
   "cell_type": "code",
   "execution_count": 17,
   "metadata": {},
   "outputs": [
    {
     "name": "stdout",
     "output_type": "stream",
     "text": [
      "The probability of choosing an apple from the basket is 0.6 and the probability of choosing an orange is 0.4\n"
     ]
    }
   ],
   "source": [
    "\"\"\"\n",
    "Calculate:\n",
    "p = probability that the fruit is an apple \n",
    "q = probability that the fruit is an orange\n",
    "\"\"\"\n",
    "\n",
    "# your code here\n",
    "n=100 # numero de la muestra\n",
    "p=60/100 # la primera opcion de probabilidad dividido entre 100 para expresarlo en probabilidd\n",
    "q=40/100  # la segunda opcion de probabilidad dividido entre 100 para expresarlo en probabilidd\n",
    "print(f'The probability of choosing an apple from the basket is {Pa} and the probability of choosing an orange is {Qo}')"
   ]
  },
  {
   "cell_type": "markdown",
   "metadata": {},
   "source": [
    "Now we take a random sample of 20 fruits from the basket. After each fruit is taken, a new fruit of the same type is replaced in the basket. Therefore, every time we are taking 1 fruit from 100 fruits. \n",
    "\n",
    "1. **What is the probability that the first 5 fruits are all apples?**\n",
    "\n",
    "1. **What is the probability that the first 5 fruits are all apples and the next 15 fruits are all oranges?**\n",
    "\n",
    "You can include the `p` and `q` probabilities you previous calculated in your solution."
   ]
  },
  {
   "cell_type": "code",
   "execution_count": 18,
   "metadata": {},
   "outputs": [],
   "source": [
    "apple_p=p**5\n",
    "a_n_p=apple_p*(q**15)"
   ]
  },
  {
   "cell_type": "code",
   "execution_count": 19,
   "metadata": {
    "scrolled": true
   },
   "outputs": [
    {
     "name": "stdout",
     "output_type": "stream",
     "text": [
      "This is the probability of taking a apple 5 times in row 0.08\n",
      "This is the probability of taking a apple 5 times in row an the next 15 fruits all oranges 0.0\n"
     ]
    }
   ],
   "source": [
    "print(f'This is the probability of taking a apple 5 times in row {round(apple_p,2)}')\n",
    "print(f'This is the probability of taking a apple 5 times in row an the next 15 fruits all oranges {round(a_n_p,2)}')"
   ]
  },
  {
   "cell_type": "markdown",
   "metadata": {},
   "source": [
    "## Binomial Distribution\n",
    "\n",
    "Similar to the above problem, this time again we randomly sample 20 fruits.\n",
    "\n",
    "**What is the probability that this time the sample contains 5 apples and 15 oranges?**\n",
    "\n",
    "Please note that this time the order of the fruits being picked does not matter."
   ]
  },
  {
   "cell_type": "code",
   "execution_count": 34,
   "metadata": {},
   "outputs": [
    {
     "name": "stdout",
     "output_type": "stream",
     "text": [
      "The probability that this time the sample contains 5 apples and 15 oranges is 0.0013\n"
     ]
    }
   ],
   "source": [
    "# your code here\n",
    "apple = 5\n",
    "sample= 20\n",
    "apples = stats.binom.pmf(apple, sample, p)\n",
    "print(f'The probability that this time the sample contains 5 apples and 15 oranges is {round(apples,4)}')"
   ]
  },
  {
   "cell_type": "markdown",
   "metadata": {},
   "source": [
    "In the lesson we also discussed CDF (cumulative distribution function). In the context of the above problem, **what is the probability that less than 5 fruits picked are apples?**\n",
    "\n",
    "Write the formula and calculate the probability below."
   ]
  },
  {
   "cell_type": "code",
   "execution_count": 35,
   "metadata": {},
   "outputs": [
    {
     "name": "stdout",
     "output_type": "stream",
     "text": [
      "The probability is 0.0003\n"
     ]
    }
   ],
   "source": [
    "# your code here\n",
    "# what is the probability that less than 5 fruits picked are apples?\n",
    "\n",
    "apple2 = 4\n",
    "\n",
    "less_t_4 = stats.binom.cdf(apple1, sample, p)\n",
    "\n",
    "print(f'The probability is {round(less_t_4, 4)}')"
   ]
  },
  {
   "cell_type": "markdown",
   "metadata": {},
   "source": [
    "**Plot the PDF (probability distributiom function) for the above binomial distribution.**\n",
    "\n",
    "*Hint: The range of x in a binomial distribution is from `0` to `n`.*"
   ]
  },
  {
   "cell_type": "code",
   "execution_count": 41,
   "metadata": {},
   "outputs": [
    {
     "data": {
      "image/png": "[encoded data removed]",
      "text/plain": [
       "<Figure size 432x288 with 1 Axes>"
      ]
     },
     "metadata": {
      "needs_background": "light"
     },
     "output_type": "display_data"
    }
   ],
   "source": [
    "# your code here\n",
    "# Please label the axes and give a title to the plot \n",
    "\n",
    "binomial = stats.binom(sample, p) # Distribution\n",
    "\n",
    "x = np.arange(0, sample+1) # Values\n",
    "\n",
    "fmp = binomial.pmf(x) # Function to plot\n",
    "\n",
    "#Plot generation\n",
    "\n",
    "plt.plot(x, fmp, '.-')\n",
    "plt.vlines(x, 0, fmp, colors='red')\n",
    "plt.title('PDF of Binomial Distribution with n=20 and p=0.6')\n",
    "plt.ylabel('Probability')\n",
    "plt.xlabel('Values')\n",
    "plt.show()"
   ]
  },
  {
   "cell_type": "markdown",
   "metadata": {},
   "source": [
    "## Poisson Distribution\n",
    "\n",
    "In this challenge you are required to use the Math library in python to solve the problems.\n",
    "\n",
    "In the UEFA champions league tournament, the average number of goals scored in a match is 2.3. \n",
    "\n",
    "**What is the probability that the number of goals scored in a match is 5?**\n",
    "\n",
    "*Hint: Use the exp() in the math library*\n",
    "\n",
    "And to calculate the factorial, you can use the following code:\n",
    "\n",
    "```python\n",
    "import math\n",
    "math.factorial(n) # n is the number you want to find the factorial of\n",
    "```"
   ]
  },
  {
   "cell_type": "code",
   "execution_count": 46,
   "metadata": {},
   "outputs": [
    {
     "name": "stdout",
     "output_type": "stream",
     "text": [
      "The probability of scoring 5 goals in a match is 0.054\n"
     ]
    }
   ],
   "source": [
    "# your code here \n",
    "m = 2.3 # the average number of goals scored in a match is 2.3\n",
    "k = 5\n",
    "\n",
    "pro = math.exp(-m)*(m**k)/math.factorial(k)\n",
    "#What is the probability that the number of goals scored in a match is 5?\n",
    "print(f'The probability of scoring 5 goals in a match is {round(pro,3)}')"
   ]
  },
  {
   "cell_type": "markdown",
   "metadata": {},
   "source": [
    "**Draw a poisson probability distribution plot for the number of goals to be between 0 to 10.**"
   ]
  },
  {
   "cell_type": "code",
   "execution_count": 53,
   "metadata": {},
   "outputs": [
    {
     "data": {
      "image/png": "[encoded data removed]",
      "text/plain": [
       "<Figure size 432x288 with 1 Axes>"
      ]
     },
     "metadata": {
      "needs_background": "light"
     },
     "output_type": "display_data"
    }
   ],
   "source": [
    "# your code here\n",
    "# Please label the axes and give a title to the plot \n",
    "n = 10 # number of goals\n",
    "\n",
    "m =  2.3 # the average number of goals scored in a match is 2.3\n",
    "\n",
    "\n",
    "x = np.arange(0,n+1) # Values\n",
    "\n",
    "f = stats.poisson.pmf(x,m) #Function to plot\n",
    "\n",
    "plt.plot(x, f, '-.')\n",
    "plt.vlines(x, 0, f, colors='b')\n",
    "plt.title('Poission Distribution')\n",
    "plt.xlabel('Number of goals')\n",
    "plt.ylabel('Probability')\n",
    "plt.show();"
   ]
  }
 ],
 "metadata": {
  "kernelspec": {
   "display_name": "Python 3",
   "language": "python",
   "name": "python3"
  },
  "language_info": {
   "codemirror_mode": {
    "name": "ipython",
    "version": 3
   },
   "file_extension": ".py",
   "mimetype": "text/x-python",
   "name": "python",
   "nbconvert_exporter": "python",
   "pygments_lexer": "ipython3",
   "version": "3.7.6"
  }
 },
 "nbformat": 4,
 "nbformat_minor": 2
}
